{
  "nbformat": 4,
  "nbformat_minor": 0,
  "metadata": {
    "colab": {
      "name": "Shallow_Foundation.ipynb",
      "version": "0.3.2",
      "provenance": [],
      "collapsed_sections": []
    },
    "kernelspec": {
      "name": "python3",
      "display_name": "Python 3"
    }
  },
  "cells": [
    {
      "metadata": {
        "id": "Sbkt8Mjr0ONK",
        "colab_type": "text"
      },
      "cell_type": "markdown",
      "source": [
        "# **Modelling of shallow foundation for offshore structures, G.T. Houlsby**\n",
        "Department of Engineering Science, Oxford University"
      ]
    },
    {
      "metadata": {
        "id": "XXUinxST02st",
        "colab_type": "text"
      },
      "cell_type": "markdown",
      "source": [
        "The basic principles of the models, which are based on work-hardening plasticity theory\n",
        "\n",
        "**Force Resultant Models**\n",
        "\n",
        "The force resultant models are based on four components: \n",
        "\n",
        "1.   Yield surface\n",
        "2.   Hardening law\n",
        "1.   Flow rule\n",
        "2.   Elastic behaviour inside the yield surface\n",
        "\n",
        "\n",
        "\n",
        "\n",
        "\n",
        "\n"
      ]
    },
    {
      "metadata": {
        "id": "e4f9NLw58S3H",
        "colab_type": "text"
      },
      "cell_type": "markdown",
      "source": [
        "**Yield surface**\n",
        "This approach is epitomised by\n",
        "the work of Hansen (1970) and Vesic (1975). A more fruitful approach, which\n",
        "has its origins in the work of Roscoe and Schofield (1957) and later Butterfield\n",
        "and Ticof (1979), is to treat the yield points as defining a yield surface in load\n",
        "space.\n",
        "\n",
        "\\begin{equation*}\n",
        "f =\\left(\\frac{H_3}{h_0V_0} \\right)^2 +\\left( \\frac{M_2}{2Rm_0V_0}\\right)^2-2a\\left(\\frac{H_3}{h_0V_0}\\right)\\left(\\frac{M_2}{2Rm_0V_0}\\right)-4\\left(\\frac{V}{V_0} \\right)^2\\left(1-\\frac{V}{V_0} \\right)^2\n",
        "\\end{equation*}\n",
        "\n"
      ]
    },
    {
      "metadata": {
        "id": "u3KQy_z1uubM",
        "colab_type": "text"
      },
      "cell_type": "markdown",
      "source": [
        "For general loading this expression may be extended to:\n",
        "\n",
        "\\begin{equation*}\n",
        "f = h_2^2 + h_3^2 + {q^2} + m_2^2 + m_3^2 + 2a\\left( {{h_2}{m_3} - {h_3}{m_2}} \\right) - \\beta _{12}^2S{\\left( {{\\upsilon ^2}} \\right)^{{\\beta _1}}}{\\left( {{{\\left( {1 - \\upsilon } \\right)}^2}} \\right)^{{\\beta _2}}} = 0\n",
        "\\end{equation*}\n",
        "where $S = sgn[v_1(1− v_2)]$  is introduced to ensure consistency of the sign of the\n",
        "yield function, $β_{12} = (β_1 + β_2)^{β_1+β_2}β_1^{−β_1}β_2^{−β_2}$ , $v = \\frac{V} {V_0}$ , $h_2 = \\frac{H_2}{h_0V_0}$ ,\n",
        "$q = \\frac{Q}{2Rq_0V_0}$ , $m_2 = \\frac{M_2}{2Rm_0V_0}$ etc. The factors $β_1$ and $β_2$ (each close to, but just less than 1.0) are introduced to “round off” the pointed ends of the\n",
        "yield surface on the V-axis."
      ]
    },
    {
      "metadata": {
        "id": "rc3K_mgU0e4I",
        "colab_type": "code",
        "colab": {
          "base_uri": "https://localhost:8080/",
          "height": 362
        },
        "outputId": "87184ece-4c41-417a-e669-df0cd5deeaec"
      },
      "cell_type": "code",
      "source": [
        "from IPython.display import Image\n",
        "from IPython.core.display import HTML \n",
        "Image(url= \"https://github.com/hhahyt/Bao-suc-chiu-tai/blob/master/Fig4.JPG?raw=true\",\n",
        "     width=600)"
      ],
      "execution_count": 6,
      "outputs": [
        {
          "output_type": "execute_result",
          "data": {
            "text/html": [
              "<img src=\"https://github.com/hhahyt/Bao-suc-chiu-tai/blob/master/Fig4.JPG?raw=true\" width=\"600\"/>"
            ],
            "text/plain": [
              "<IPython.core.display.Image object>"
            ]
          },
          "metadata": {
            "tags": []
          },
          "execution_count": 6
        }
      ]
    },
    {
      "metadata": {
        "id": "fTQ8A195sRC5",
        "colab_type": "code",
        "outputId": "48c80206-59fd-4ff6-9c99-40f73a88996d",
        "colab": {
          "base_uri": "https://localhost:8080/",
          "height": 369
        }
      },
      "cell_type": "code",
      "source": [
        "from IPython.display import Image\n",
        "from IPython.core.display import HTML \n",
        "Image(url= \"https://github.com/hhahyt/Bao-suc-chiu-tai/blob/master/Fig8.JPG?raw=true\",\n",
        "     width=800)"
      ],
      "execution_count": 5,
      "outputs": [
        {
          "output_type": "execute_result",
          "data": {
            "text/html": [
              "<img src=\"https://github.com/hhahyt/Bao-suc-chiu-tai/blob/master/Fig8.JPG?raw=true\" width=\"800\"/>"
            ],
            "text/plain": [
              "<IPython.core.display.Image object>"
            ]
          },
          "metadata": {
            "tags": []
          },
          "execution_count": 5
        }
      ]
    },
    {
      "metadata": {
        "id": "BtfRROmM8RjF",
        "colab_type": "text"
      },
      "cell_type": "markdown",
      "source": [
        ""
      ]
    }
  ]
}