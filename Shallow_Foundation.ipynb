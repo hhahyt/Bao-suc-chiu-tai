{
  "nbformat": 4,
  "nbformat_minor": 0,
  "metadata": {
    "colab": {
      "name": "Shallow_Foundation.ipynb",
      "version": "0.3.2",
      "provenance": [],
      "collapsed_sections": []
    },
    "kernelspec": {
      "name": "python3",
      "display_name": "Python 3"
    }
  },
  "cells": [
    {
      "metadata": {
        "id": "Sbkt8Mjr0ONK",
        "colab_type": "text"
      },
      "cell_type": "markdown",
      "source": [
        "# **Modelling of shallow foundation for offshore structures, G.T. Houlsby**\n",
        "Department of Engineering Science, Oxford University"
      ]
    },
    {
      "metadata": {
        "id": "XXUinxST02st",
        "colab_type": "text"
      },
      "cell_type": "markdown",
      "source": [
        "The basic principles of the models, which are based on work-hardening plasticity theory\n",
        "\n",
        "**Force Resultant Models**\n",
        "\n",
        "The force resultant models are based on four components: \n",
        "\n",
        "1.   Yield surface\n",
        "2.   Hardening law\n",
        "1.   Flow rule\n",
        "2.   Elastic behaviour inside the yield surface\n",
        "\n",
        "**Force resultant models** can be combined with structural analyses to predict the behaviour of the entire structure/foundation system under dynamic loading conditions imposed by waves\n",
        "\n",
        "\n",
        "\n",
        "\n",
        "\n",
        "\n"
      ]
    },
    {
      "metadata": {
        "id": "e4f9NLw58S3H",
        "colab_type": "text"
      },
      "cell_type": "markdown",
      "source": [
        "# **Yield surface**\n",
        "\n",
        "This approach is epitomised by\n",
        "the work of Hansen (1970) and Vesic (1975). A more fruitful approach, which\n",
        "has its origins in the work of Roscoe and Schofield (1957) and later Butterfield\n",
        "and Ticof (1979), is to treat the yield points as defining a yield surface in load\n",
        "space.\n",
        "\n",
        "\\begin{equation*}\n",
        "f =\\left(\\frac{H_3}{h_0V_0} \\right)^2 +\\left( \\frac{M_2}{2Rm_0V_0}\\right)^2-2a\\left(\\frac{H_3}{h_0V_0}\\right)\\left(\\frac{M_2}{2Rm_0V_0}\\right)-4\\left(\\frac{V}{V_0} \\right)^2\\left(1-\\frac{V}{V_0} \\right)^2\n",
        "\\end{equation*}\n",
        "\n"
      ]
    },
    {
      "metadata": {
        "id": "u3KQy_z1uubM",
        "colab_type": "text"
      },
      "cell_type": "markdown",
      "source": [
        "For general loading this expression may be extended to:\n",
        "\n",
        "\\begin{equation*}\n",
        "f = h_2^2 + h_3^2 + {q^2} + m_2^2 + m_3^2 + 2a\\left( {{h_2}{m_3} - {h_3}{m_2}} \\right) - \\beta _{12}^2S{\\left( {{\\upsilon ^2}} \\right)^{{\\beta _1}}}{\\left( {{{\\left( {1 - \\upsilon } \\right)}^2}} \\right)^{{\\beta _2}}} = 0\n",
        "\\end{equation*}\n",
        "where $S = sgn[v_1(1− v_2)]$  is introduced to ensure consistency of the sign of the\n",
        "yield function, $β_{12} = (β_1 + β_2)^{β_1+β_2}β_1^{−β_1}β_2^{−β_2}$ , $v = \\frac{V} {V_0}$ , $h_2 = \\frac{H_2}{h_0V_0}$ ,\n",
        "$q = \\frac{Q}{2Rq_0V_0}$ , $m_2 = \\frac{M_2}{2Rm_0V_0}$ etc. The factors $β_1$ and $β_2$ (each close to, but just less than 1.0) are introduced to “round off” the pointed ends of the\n",
        "yield surface on the V-axis."
      ]
    },
    {
      "metadata": {
        "id": "rc3K_mgU0e4I",
        "colab_type": "code",
        "outputId": "87184ece-4c41-417a-e669-df0cd5deeaec",
        "colab": {
          "base_uri": "https://localhost:8080/",
          "height": 362
        }
      },
      "cell_type": "code",
      "source": [
        "from IPython.display import Image\n",
        "from IPython.core.display import HTML \n",
        "Image(url= \"https://github.com/hhahyt/Bao-suc-chiu-tai/blob/master/Fig4.JPG?raw=true\",\n",
        "     width=600)"
      ],
      "execution_count": 0,
      "outputs": [
        {
          "output_type": "execute_result",
          "data": {
            "text/html": [
              "<img src=\"https://github.com/hhahyt/Bao-suc-chiu-tai/blob/master/Fig4.JPG?raw=true\" width=\"600\"/>"
            ],
            "text/plain": [
              "<IPython.core.display.Image object>"
            ]
          },
          "metadata": {
            "tags": []
          },
          "execution_count": 6
        }
      ]
    },
    {
      "metadata": {
        "id": "fTQ8A195sRC5",
        "colab_type": "code",
        "outputId": "4dc3dda7-1545-4618-a89c-39b471bb21d6",
        "colab": {
          "base_uri": "https://localhost:8080/",
          "height": 282
        }
      },
      "cell_type": "code",
      "source": [
        "Image(url= \"https://github.com/hhahyt/Bao-suc-chiu-tai/blob/master/Fig8.JPG?raw=true\",\n",
        "     width=600)"
      ],
      "execution_count": 7,
      "outputs": [
        {
          "output_type": "execute_result",
          "data": {
            "text/html": [
              "<img src=\"https://github.com/hhahyt/Bao-suc-chiu-tai/blob/master/Fig8.JPG?raw=true\" width=\"600\"/>"
            ],
            "text/plain": [
              "<IPython.core.display.Image object>"
            ]
          },
          "metadata": {
            "tags": []
          },
          "execution_count": 7
        }
      ]
    },
    {
      "metadata": {
        "id": "Cw8pUpMmInP9",
        "colab_type": "text"
      },
      "cell_type": "markdown",
      "source": [
        "# **Hardening Law**\n",
        "\n",
        "\n",
        ">  \n",
        "In bearing capacity theory, the capacity of the foundation is regarded as fixed, regardless of the deformation of the foundation (although see the discussion below). In reality, once plastic deformation occurs and the foundation is pushed further into the ground, the capacity of the foundation increases. Thus the size of the yield surface is not fixed, but increases as plastic deformation occurs. It is reasonable to link this increase only to further embedment, and not for instance to horizontal movement, since there is no reason to suppose that a horizontal movement increases the capacity. In simple force resultant models the size of the yield surface is therefore simply a function of the vertical plastic strain\n",
        "\n",
        "Experimental evidence is that this is satisfactory for most purposes, although\n",
        "in some cases there is evidence of a dependence on other plastic displacements\n",
        "(Cassidy, Byrne and Houlsby, 2002). The yield surface can also change in shape\n",
        "with vertical displacement (Byrne, 2000), although it is at present usual to\n",
        "neglect this effect.\n",
        "\n",
        "for a cohesionless soil:\n",
        "\n",
        "$\\begin{equation*}\n",
        "q=\\frac{1}{2}\\gamma BN_{\\gamma}+\\gamma DN_q\n",
        "\\end{equation*}$\n",
        "\n",
        "$N_q$ is bearing capacity factor\n",
        "\n",
        "In the terminology used above, with w p as the vertical plastic penetration, this can be written \n",
        "\n",
        "$\\begin{equation*}\n",
        "V_0=\\pi R^2 ( \\gamma RN_{\\gamma} + \\gamma N_q w_p )\n",
        "\\end{equation*}$\n",
        "\n",
        "which was purely for the ultimate capacity of a foundation installed at a particular depth"
      ]
    },
    {
      "metadata": {
        "id": "lEJvh4NlQLzR",
        "colab_type": "code",
        "colab": {
          "base_uri": "https://localhost:8080/",
          "height": 243
        },
        "outputId": "d5a2678f-5fa1-4956-a322-5457f1ca55f6"
      },
      "cell_type": "code",
      "source": [
        "from IPython.display import Image\n",
        "from IPython.core.display import HTML\n",
        "Image(url= \"https://github.com/hhahyt/Shallow-Foundation/blob/master/Fig6_1a.JPG?raw=true\",\n",
        "     width=600)"
      ],
      "execution_count": 6,
      "outputs": [
        {
          "output_type": "execute_result",
          "data": {
            "text/html": [
              "<img src=\"https://github.com/hhahyt/Shallow-Foundation/blob/master/Fig6_1a.JPG?raw=true\" width=\"600\"/>"
            ],
            "text/plain": [
              "<IPython.core.display.Image object>"
            ]
          },
          "metadata": {
            "tags": []
          },
          "execution_count": 6
        }
      ]
    },
    {
      "metadata": {
        "id": "3jY-tMGvQtSg",
        "colab_type": "code",
        "colab": {
          "base_uri": "https://localhost:8080/",
          "height": 421
        },
        "outputId": "52356c53-adbf-4613-b319-de653962662a"
      },
      "cell_type": "code",
      "source": [
        "from IPython.display import Image\n",
        "from IPython.core.display import HTML\n",
        "Image(url= \"https://github.com/hhahyt/Shallow-Foundation/blob/master/Fig6_1.JPG?raw=true\",\n",
        "     width=600)"
      ],
      "execution_count": 5,
      "outputs": [
        {
          "output_type": "execute_result",
          "data": {
            "text/html": [
              "<img src=\"https://github.com/hhahyt/Shallow-Foundation/blob/master/Fig6_1.JPG?raw=true\" width=\"600\"/>"
            ],
            "text/plain": [
              "<IPython.core.display.Image object>"
            ]
          },
          "metadata": {
            "tags": []
          },
          "execution_count": 5
        }
      ]
    },
    {
      "metadata": {
        "id": "zms2NV15RBJy",
        "colab_type": "text"
      },
      "cell_type": "markdown",
      "source": [
        "# **Flow Rule**\n",
        "\n",
        "The simplest form of flow is “associated flow” in which the yield surface acts also as a “plastic potential” and (in the planar loading case):\n",
        "\n",
        "$\\begin{equation*}\n",
        "dw_p=\\lambda \\frac{\\partial f}{\\partial V}, du_{3p}=\\lambda \\frac{\\partial f}{\\partial H_3},  d\\theta _{2p}=\\lambda \\frac{\\partial f}{\\partial M_2},\n",
        "\\end{equation*}$\n",
        "\n",
        "where λ is a factor that is determined by the hardening rule.\n",
        "\n",
        ">* Martin (1994) introduced a simple modification which is satisfactory for foundations on clay. The vertical displacement is adjusted by a factor 0 < ζ ≤ 1, so that we now have $dw_p = ζλ \\partial f \\partial V$ , while the other equations remain unaltered. A value ζ ≈ 0.6 gives realistic modelling.*\n",
        "\n"
      ]
    }
  ]
}