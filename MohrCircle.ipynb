{
  "nbformat": 4,
  "nbformat_minor": 0,
  "metadata": {
    "colab": {
      "name": "MohrCircle.ipynb",
      "version": "0.3.2",
      "provenance": []
    },
    "kernelspec": {
      "display_name": "Python 3",
      "language": "python",
      "name": "python3"
    }
  },
  "cells": [
    {
      "metadata": {
        "id": "xlFlM10FHKuH",
        "colab_type": "code",
        "colab": {
          "base_uri": "https://localhost:8080/",
          "height": 318
        },
        "outputId": "a8a02288-544c-491c-ef81-c627984bb4a7"
      },
      "cell_type": "code",
      "source": [
        "%matplotlib inline\n",
        "import matplotlib.pyplot as plt\n",
        "import matplotlib \n",
        "import numpy as np\n",
        "#matplotlib.rc('font', family='Arial')\n",
        "import math\n",
        "pi= math.pi\n",
        "#ứng suất chính s1, s3\n",
        "s1= 300.\n",
        "s3= 100.\n",
        "alpha = np.linspace(0, 180., 90)\n",
        "i=0\n",
        "'''\n",
        "def mohrS(ss1,ss3):\n",
        "    for t in range(0, 180):\n",
        "        sa(i)= (s1+s3)/2+ (s1-s3)/2*math.cos((t*pi/180.))\n",
        "        ta(i)= (s1-s3)/2*math.sin((t*pi/180.))\n",
        "        tta= (ss1-ss3)/2*math.sin(alpha*pi/180)\n",
        "    return ssa\n",
        "'''\n",
        "#def mohrT(ss1,ss3):\n",
        "plt.Circle(((s1+s3)/2, 0), (s1-s3)/2, color='r')\n",
        "fig, ax = plt.subplots() # note we must use plt.subplots, not plt.subplot\n",
        "# (or if you have an existing figure)\n",
        "fig = plt.gcf()\n",
        "ax = fig.gca()\n",
        "\n",
        "#ax.add_artist(circle1)\n",
        "\n",
        "ax=plt.gca() \n",
        "ax.cla()\n",
        "ax.set_xlim((0,300)) \n",
        "ax.set_ylim((0,100))\n",
        "plt.ylabel(u'ứng suất cắt t')\n",
        "plt.xlabel(u'ứng suất pháp s')\n",
        "plt.show()\n",
        "fig.savefig('plotcircles.png')"
      ],
      "execution_count": 2,
      "outputs": [
        {
          "output_type": "stream",
          "text": [
            "/usr/local/lib/python3.6/dist-packages/matplotlib/font_manager.py:1320: UserWarning: findfont: Font family ['Arial'] not found. Falling back to DejaVu Sans\n",
            "  (prop.get_family(), self.defaultFamily[fontext]))\n"
          ],
          "name": "stderr"
        },
        {
          "output_type": "display_data",
          "data": {
            "image/png": "[encoded data removed]",
            "text/plain": [
              "<matplotlib.figure.Figure at 0x7f173915f128>"
            ]
          },
          "metadata": {
            "tags": []
          }
        }
      ]
    },
    {
      "metadata": {
        "id": "T3riwpJEHKuX",
        "colab_type": "code",
        "colab": {}
      },
      "cell_type": "code",
      "source": [
        ""
      ],
      "execution_count": 0,
      "outputs": []
    }
  ]
}