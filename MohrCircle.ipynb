{
 "cells": [
  {
   "cell_type": "code",
   "execution_count": 5,
   "metadata": {},
   "outputs": [
    {
     "data": {
      "image/png": "[encoded data removed]",
      "text/plain": [
       "<Figure size 432x288 with 1 Axes>"
      ]
     },
     "metadata": {},
     "output_type": "display_data"
    }
   ],
   "source": [
    "%matplotlib inline\n",
    "import matplotlib.pyplot as plt\n",
    "import matplotlib \n",
    "import numpy as np\n",
    "matplotlib.rc('font', family='Arial')\n",
    "import math\n",
    "pi= math.pi\n",
    "#ứng suất chính s1, s3\n",
    "s1= 300.\n",
    "s3= 100.\n",
    "alpha = np.linspace(0, 180., 90)\n",
    "i=0\n",
    "'''\n",
    "def mohrS(ss1,ss3):\n",
    "    for t in range(0, 180):\n",
    "        sa(i)= (s1+s3)/2+ (s1-s3)/2*math.cos((t*pi/180.))\n",
    "        ta(i)= (s1-s3)/2*math.sin((t*pi/180.))\n",
    "        tta= (ss1-ss3)/2*math.sin(alpha*pi/180)\n",
    "    return ssa\n",
    "'''\n",
    "#def mohrT(ss1,ss3):\n",
    "plt.Circle(((s1+s3)/2, 0), (s1-s3)/2, color='r')\n",
    "fig, ax = plt.subplots() # note we must use plt.subplots, not plt.subplot\n",
    "# (or if you have an existing figure)\n",
    "fig = plt.gcf()\n",
    "ax = fig.gca()\n",
    "\n",
    "#ax.add_artist(circle1)\n",
    "\n",
    "ax=plt.gca() \n",
    "ax.cla()\n",
    "ax.set_xlim((0,300)) \n",
    "ax.set_ylim((0,100))\n",
    "plt.ylabel(u'ứng suất cắt t')\n",
    "plt.xlabel(u'ứng suất pháp s')\n",
    "plt.show()\n",
    "fig.savefig('plotcircles.png')"
   ]
  },
  {
   "cell_type": "code",
   "execution_count": null,
   "metadata": {},
   "outputs": [],
   "source": []
  }
 ],
 "metadata": {
  "kernelspec": {
   "display_name": "Python 3",
   "language": "python",
   "name": "python3"
  },
  "language_info": {
   "codemirror_mode": {
    "name": "ipython",
    "version": 3
   },
   "file_extension": ".py",
   "mimetype": "text/x-python",
   "name": "python",
   "nbconvert_exporter": "python",
   "pygments_lexer": "ipython3",
   "version": "3.6.5"
  }
 },
 "nbformat": 4,
 "nbformat_minor": 1
}
